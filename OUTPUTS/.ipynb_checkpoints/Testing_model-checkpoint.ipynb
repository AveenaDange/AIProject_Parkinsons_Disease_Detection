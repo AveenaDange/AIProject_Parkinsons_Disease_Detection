{
 "cells": [
  {
   "cell_type": "code",
   "execution_count": 6,
   "id": "b16b8a38-3b40-4568-8693-aa54352aa62f",
   "metadata": {},
   "outputs": [
    {
     "name": "stdout",
     "output_type": "stream",
     "text": [
      "WARNING:tensorflow:5 out of the last 5 calls to <function TensorFlowTrainer.make_predict_function.<locals>.one_step_on_data_distributed at 0x0000017C97E82840> triggered tf.function retracing. Tracing is expensive and the excessive number of tracings could be due to (1) creating @tf.function repeatedly in a loop, (2) passing tensors with different shapes, (3) passing Python objects instead of tensors. For (1), please define your @tf.function outside of the loop. For (2), @tf.function has reduce_retracing=True option that can avoid unnecessary retracing. For (3), please refer to https://www.tensorflow.org/guide/function#controlling_retracing and https://www.tensorflow.org/api_docs/python/tf/function for  more details.\n",
      "\u001b[1m1/1\u001b[0m \u001b[32m━━━━━━━━━━━━━━━━━━━━\u001b[0m\u001b[37m\u001b[0m \u001b[1m0s\u001b[0m 330ms/step\n",
      "Predicted: Parkinson's Disease\n"
     ]
    }
   ],
   "source": [
    "from tensorflow.keras.preprocessing import image\n",
    "import numpy as np\n",
    "from tensorflow import keras\n",
    "model = keras.models.load_model(\"parkinsons_detection_model.keras\")\n",
    "\n",
    "# Load and preprocess the image\n",
    "img_path = r\"C:\\Users\\aryaw\\OneDrive\\Pictures\\dataset_imgs\\ParkinsonsDrawing\\testing\\spiral\\pd\\image6.jpg\"\n",
    "img = image.load_img(img_path, target_size=(224, 224))\n",
    "img_array = image.img_to_array(img)\n",
    "img_array = np.expand_dims(img_array, axis=0)\n",
    "img_array /= 255.0  # Assuming you scaled the images during training\n",
    "\n",
    "# Predict\n",
    "prediction = model.predict(img_array)\n",
    "\n",
    "# Interpret the result\n",
    "if prediction[0][0] >= 0.5:\n",
    "    print(\"Predicted: Parkinson's Disease\")\n",
    "else:\n",
    "    print(\"Predicted: Healthy\")\n"
   ]
  },
  {
   "cell_type": "code",
   "execution_count": null,
   "id": "9428a288-58d5-4c8b-b531-30616f91f6cb",
   "metadata": {},
   "outputs": [],
   "source": []
  }
 ],
 "metadata": {
  "kernelspec": {
   "display_name": "Python 3 (ipykernel)",
   "language": "python",
   "name": "python3"
  },
  "language_info": {
   "codemirror_mode": {
    "name": "ipython",
    "version": 3
   },
   "file_extension": ".py",
   "mimetype": "text/x-python",
   "name": "python",
   "nbconvert_exporter": "python",
   "pygments_lexer": "ipython3",
   "version": "3.12.4"
  }
 },
 "nbformat": 4,
 "nbformat_minor": 5
}
