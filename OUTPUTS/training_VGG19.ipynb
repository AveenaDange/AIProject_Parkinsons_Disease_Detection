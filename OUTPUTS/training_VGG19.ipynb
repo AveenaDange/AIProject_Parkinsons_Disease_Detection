{
 "cells": [
  {
   "cell_type": "code",
   "execution_count": 12,
   "id": "99dba5e7-316b-4616-94f2-2158a870a25b",
   "metadata": {},
   "outputs": [],
   "source": [
    "import tensorflow as tf\n",
    "from tensorflow.keras.preprocessing.image import ImageDataGenerator\n",
    "from tensorflow.keras.applications import VGG19\n",
    "from tensorflow.keras.models import Sequential\n",
    "from tensorflow.keras.layers import Dense, Flatten\n",
    "from tensorflow.keras.optimizers import Adam\n"
   ]
  },
  {
   "cell_type": "code",
   "execution_count": 17,
   "id": "6f427a17-c025-4bc5-af03-8f776bb5373e",
   "metadata": {},
   "outputs": [],
   "source": [
    "import warnings\n",
    "warnings.filterwarnings(\"ignore\", category=UserWarning, module=\"keras\")\n"
   ]
  },
  {
   "cell_type": "code",
   "execution_count": null,
   "id": "5e515e8d-a9a2-4eb8-a3e5-deb215e32c4e",
   "metadata": {},
   "outputs": [
    {
     "name": "stdout",
     "output_type": "stream",
     "text": [
      "Found 7236 images belonging to 2 classes.\n",
      "Found 1818 images belonging to 2 classes.\n"
     ]
    }
   ],
   "source": [
    "# Paths to training and validation datasets\n",
    "train_data_path = 'C:/Users/ambik/Desktop/AI Project/ProjectFiles/data2/train'\n",
    "val_data_path = 'C:/Users/ambik/Desktop/AI Project/ProjectFiles/data2/validation'\n",
    "\n",
    "# Data generators with augmentation for training data\n",
    "train_datagen = ImageDataGenerator(\n",
    "    rescale=1.0/255,\n",
    "    rotation_range=20,\n",
    "    width_shift_range=0.2,\n",
    "    height_shift_range=0.2,\n",
    "    shear_range=0.2,\n",
    "    zoom_range=0.2,\n",
    "    horizontal_flip=True,\n",
    "    fill_mode='nearest'\n",
    ")\n",
    "\n",
    "# Only rescaling for validation data\n",
    "val_datagen = ImageDataGenerator(rescale=1.0/255)\n",
    "\n",
    "# Generate training and validation data\n",
    "train_generator = train_datagen.flow_from_directory(\n",
    "    train_data_path,\n",
    "    target_size=(224, 224),\n",
    "    batch_size=32,\n",
    "    class_mode='binary'\n",
    ")\n",
    "\n",
    "val_generator = val_datagen.flow_from_directory(\n",
    "    val_data_path,\n",
    "    target_size=(224, 224),\n",
    "    batch_size=32,\n",
    "    class_mode='binary'\n",
    ")\n"
   ]
  },
  {
   "cell_type": "code",
   "execution_count": 14,
   "id": "dc4d8db7-61b6-42bd-8cd7-ddf7cf83119c",
   "metadata": {},
   "outputs": [],
   "source": [
    "# Load the VGG19 model without the top (classification) layer and with pre-trained ImageNet weights\n",
    "base_model = VGG19(weights='imagenet', include_top=False, input_shape=(224, 224, 3))\n",
    "\n",
    "# Freeze the layers of VGG19 to prevent training them\n",
    "for layer in base_model.layers:\n",
    "    layer.trainable = False\n",
    "\n",
    "# Add custom layers on top of VGG19\n",
    "model = Sequential([\n",
    "    base_model,\n",
    "    Flatten(),\n",
    "    Dense(256, activation='relu'),\n",
    "    Dense(1, activation='sigmoid')  # Binary classification\n",
    "])\n",
    "\n",
    "# Compile the model with binary cross-entropy loss and Adam optimizer\n",
    "model.compile(optimizer=Adam(learning_rate=0.0001), loss='binary_crossentropy', metrics=['accuracy'])\n"
   ]
  },
  {
   "cell_type": "code",
   "execution_count": 18,
   "id": "8392247f-107a-4f1e-87c1-1c21af659949",
   "metadata": {},
   "outputs": [
    {
     "name": "stdout",
     "output_type": "stream",
     "text": [
      "Epoch 1/10\n",
      "\u001b[1m227/227\u001b[0m \u001b[32m━━━━━━━━━━━━━━━━━━━━\u001b[0m\u001b[37m\u001b[0m \u001b[1m2228s\u001b[0m 10s/step - accuracy: 0.8444 - loss: 0.3416 - val_accuracy: 0.8647 - val_loss: 0.2963\n",
      "Epoch 2/10\n",
      "\u001b[1m227/227\u001b[0m \u001b[32m━━━━━━━━━━━━━━━━━━━━\u001b[0m\u001b[37m\u001b[0m \u001b[1m2156s\u001b[0m 10s/step - accuracy: 0.8480 - loss: 0.3410 - val_accuracy: 0.8553 - val_loss: 0.3175\n",
      "Epoch 3/10\n",
      "\u001b[1m227/227\u001b[0m \u001b[32m━━━━━━━━━━━━━━━━━━━━\u001b[0m\u001b[37m\u001b[0m \u001b[1m2192s\u001b[0m 10s/step - accuracy: 0.8461 - loss: 0.3316 - val_accuracy: 0.8768 - val_loss: 0.2827\n",
      "Epoch 4/10\n",
      "\u001b[1m227/227\u001b[0m \u001b[32m━━━━━━━━━━━━━━━━━━━━\u001b[0m\u001b[37m\u001b[0m \u001b[1m2204s\u001b[0m 10s/step - accuracy: 0.8519 - loss: 0.3309 - val_accuracy: 0.8608 - val_loss: 0.2870\n",
      "Epoch 5/10\n",
      "\u001b[1m227/227\u001b[0m \u001b[32m━━━━━━━━━━━━━━━━━━━━\u001b[0m\u001b[37m\u001b[0m \u001b[1m2118s\u001b[0m 9s/step - accuracy: 0.8425 - loss: 0.3313 - val_accuracy: 0.8707 - val_loss: 0.2926\n",
      "Epoch 6/10\n",
      "\u001b[1m227/227\u001b[0m \u001b[32m━━━━━━━━━━━━━━━━━━━━\u001b[0m\u001b[37m\u001b[0m \u001b[1m2054s\u001b[0m 9s/step - accuracy: 0.8477 - loss: 0.3295 - val_accuracy: 0.8663 - val_loss: 0.2875\n",
      "Epoch 7/10\n",
      "\u001b[1m227/227\u001b[0m \u001b[32m━━━━━━━━━━━━━━━━━━━━\u001b[0m\u001b[37m\u001b[0m \u001b[1m2084s\u001b[0m 9s/step - accuracy: 0.8585 - loss: 0.3137 - val_accuracy: 0.8702 - val_loss: 0.2827\n",
      "Epoch 8/10\n",
      "\u001b[1m227/227\u001b[0m \u001b[32m━━━━━━━━━━━━━━━━━━━━\u001b[0m\u001b[37m\u001b[0m \u001b[1m2218s\u001b[0m 10s/step - accuracy: 0.8661 - loss: 0.3017 - val_accuracy: 0.8784 - val_loss: 0.2738\n",
      "Epoch 9/10\n",
      "\u001b[1m227/227\u001b[0m \u001b[32m━━━━━━━━━━━━━━━━━━━━\u001b[0m\u001b[37m\u001b[0m \u001b[1m2229s\u001b[0m 10s/step - accuracy: 0.8634 - loss: 0.3063 - val_accuracy: 0.8575 - val_loss: 0.2953\n",
      "Epoch 10/10\n",
      "\u001b[1m227/227\u001b[0m \u001b[32m━━━━━━━━━━━━━━━━━━━━\u001b[0m\u001b[37m\u001b[0m \u001b[1m2219s\u001b[0m 10s/step - accuracy: 0.8682 - loss: 0.3036 - val_accuracy: 0.8586 - val_loss: 0.3052\n"
     ]
    }
   ],
   "source": [
    "# Train the model\n",
    "history = model.fit(\n",
    "    train_generator,\n",
    "    epochs=10,\n",
    "    validation_data=val_generator\n",
    ")\n"
   ]
  },
  {
   "cell_type": "code",
   "execution_count": 19,
   "id": "b7362bbf-fef7-4666-8d92-dbfc8f3d3372",
   "metadata": {},
   "outputs": [
    {
     "name": "stdout",
     "output_type": "stream",
     "text": [
      "\u001b[1m57/57\u001b[0m \u001b[32m━━━━━━━━━━━━━━━━━━━━\u001b[0m\u001b[37m\u001b[0m \u001b[1m424s\u001b[0m 7s/step - accuracy: 0.8689 - loss: 0.2881\n",
      "Validation Loss: 0.30517974495887756\n",
      "Validation Accuracy: 0.8586358428001404\n"
     ]
    }
   ],
   "source": [
    "# Evaluate the model on validation data\n",
    "val_loss, val_accuracy = model.evaluate(val_generator)\n",
    "print(f\"Validation Loss: {val_loss}\")\n",
    "print(f\"Validation Accuracy: {val_accuracy}\")"
   ]
  },
  {
   "cell_type": "code",
   "execution_count": 20,
   "id": "052ba1aa-2c65-4f41-a6d1-5d11f35f7336",
   "metadata": {},
   "outputs": [
    {
     "name": "stderr",
     "output_type": "stream",
     "text": [
      "WARNING:absl:You are saving your model as an HDF5 file via `model.save()` or `keras.saving.save_model(model)`. This file format is considered legacy. We recommend using instead the native Keras format, e.g. `model.save('my_model.keras')` or `keras.saving.save_model(model, 'my_model.keras')`. \n"
     ]
    }
   ],
   "source": [
    "model.save(\"parkinsons_detection_model.h5\")\n"
   ]
  },
  {
   "cell_type": "code",
   "execution_count": 21,
   "id": "af632c2f-0695-4673-822a-07f9121cc215",
   "metadata": {},
   "outputs": [],
   "source": [
    "model.save(\"parkinsons_detection_model.keras\")\n"
   ]
  }
 ],
 "metadata": {
  "kernelspec": {
   "display_name": "Python 3 (ipykernel)",
   "language": "python",
   "name": "python3"
  },
  "language_info": {
   "codemirror_mode": {
    "name": "ipython",
    "version": 3
   },
   "file_extension": ".py",
   "mimetype": "text/x-python",
   "name": "python",
   "nbconvert_exporter": "python",
   "pygments_lexer": "ipython3",
   "version": "3.12.4"
  }
 },
 "nbformat": 4,
 "nbformat_minor": 5
}
